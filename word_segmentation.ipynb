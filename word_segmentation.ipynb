{
 "cells": [
  {
   "cell_type": "code",
   "execution_count": 1,
   "metadata": {},
   "outputs": [
    {
     "data": {
      "text/html": [
       "<style>.container { width:100% !important; }</style>"
      ],
      "text/plain": [
       "<IPython.core.display.HTML object>"
      ]
     },
     "metadata": {},
     "output_type": "display_data"
    }
   ],
   "source": [
    "import torch\n",
    "torch.cuda.set_device(0) \n",
    "\n",
    "from model import *\n",
    "from train import *\n",
    "from build_dataset import *\n",
    "\n",
    "from IPython.core.display import display, HTML\n",
    "display(HTML(\"<style>.container { width:100% !important; }</style>\")) # make screen full width"
   ]
  },
  {
   "cell_type": "markdown",
   "metadata": {},
   "source": [
    "## build dataset"
   ]
  },
  {
   "cell_type": "code",
   "execution_count": 3,
   "metadata": {
    "scrolled": true
   },
   "outputs": [
    {
     "name": "stdout",
     "output_type": "stream",
     "text": [
      "0123456789 sy_1234_train length = 134413\n",
      "size of dict: [(0, 23668), (1, 10)]\n",
      "size of reduced dict: [(0, 13907), (1, 10)]\n",
      "0123456789 sy_1234_validate length = 15088\n",
      "0 sy_1234_test length = 2253\n"
     ]
    }
   ],
   "source": [
    "build_dataset('sy_1234', charlevel=False, min_freq=[2])"
   ]
  },
  {
   "cell_type": "markdown",
   "metadata": {},
   "source": [
    "## train syllable model (BI)"
   ]
  },
  {
   "cell_type": "code",
   "execution_count": 14,
   "metadata": {},
   "outputs": [
    {
     "name": "stdout",
     "output_type": "stream",
     "text": [
      "size of data: 134413 15088 2253\n"
     ]
    }
   ],
   "source": [
    "# load data and build dict\n",
    "\n",
    "datasetname = 'sy_1'\n",
    "\n",
    "with open('dataset/' + datasetname + '_train.json') as file: train_data = json.load(file)\n",
    "with open('dataset/' + datasetname + '_validate.json') as file: validate_data = json.load(file)\n",
    "with open('dataset/' + datasetname + '_test.json') as file: test_data = json.load(file)\n",
    "with open('dataset/' + datasetname + '_dict.json') as file: _to_ix = json.load(file)\n",
    "\n",
    "print('size of data:', len(train_data), len(validate_data), len(test_data))\n",
    "x1_to_ix, tag_to_ix = _to_ix"
   ]
  },
  {
   "cell_type": "code",
   "execution_count": 15,
   "metadata": {},
   "outputs": [],
   "source": [
    "model = BiLSTM_CRF(len(x1_to_ix), label_size=len(tag_to_ix), x1emb_dim=512, hidden_dim=1024).cuda()"
   ]
  },
  {
   "cell_type": "code",
   "execution_count": 16,
   "metadata": {
    "scrolled": false
   },
   "outputs": [
    {
     "name": "stdout",
     "output_type": "stream",
     "text": [
      "epoch: 0, progress: 0123456 time: 0:00:02 score: 77.78\n",
      "epoch: 1, progress: 0123456 time: 0:00:02 score: 86.35\n",
      "epoch: 2, progress: 0123456 time: 0:00:02 score: 90.47\n",
      "epoch: 3, progress: 0123456 time: 0:00:02 score: 92.03\n",
      "epoch: 4, progress: 0123456 time: 0:00:02 score: 91.36\n",
      "epoch: 5, progress: 0123456 time: 0:00:02 score: 90.75\n",
      "epoch: 6, progress: 0123456 time: 0:00:01 score: 91.21\n",
      "epoch: 7, progress: 0123456 time: 0:00:02 score: 89.99\n",
      "epoch: 8, progress: 0123456 time: 0:00:02 score: 91.54\n",
      "epoch: 9, progress: 0123456 time: 0:00:02 score: 97.52\n",
      "epoch: 10, progress: 0123456 time: 0:00:02 score: 97.86\n",
      "epoch: 11, progress: 0123456 time: 0:00:02 score: 94.72\n",
      "epoch: 12, progress: 0123456 time: 0:00:02 score: 98.34\n",
      "epoch: 13, progress: 0123456 time: 0:00:02 score: 98.73\n",
      "epoch: 14, progress: 0123456 time: 0:00:02 score: 98.78\n",
      "epoch: 15, progress: 0123456 time: 0:00:02 score: 98.88\n",
      "epoch: 16, progress: 0123456 time: 0:00:02 score: 99.08\n",
      "epoch: 17, progress: 0123456 time: 0:00:02 score: 96.84\n",
      "epoch: 18, progress: 0123456 time: 0:00:02 score: 98.88\n",
      "epoch: 19, progress: 0123456 time: 0:00:02 score: 98.79\n",
      "char level:{'precision': 0.9067327134556552, 'recall': 0.9575554073791833, 'f1': 0.9314513171153571}\n",
      "word level:{'precision': 0.8133977765584011, 'recall': 0.8589890137804026, 'f1': 0.835571959708586}\n"
     ]
    }
   ],
   "source": [
    "# quickly check the model\n",
    "_ = train(model, _to_ix, 20, 160, 0.001, train_data[:1000], train_data[:1000], best_score=0)\n",
    "result, pred_text, answer_text = evaluate(model, _to_ix, test_data, bs=160)"
   ]
  },
  {
   "cell_type": "code",
   "execution_count": 7,
   "metadata": {
    "scrolled": true
   },
   "outputs": [
    {
     "name": "stdout",
     "output_type": "stream",
     "text": [
      "epoch: 0, progress: 0123456789 time: 0:04:41 score: 95.27\n",
      "epoch: 1, progress: 0123456789 time: 0:04:48 score: 91.12\n",
      "epoch: 2, progress: 0123456789 time: 0:04:46 score: 96.12\n",
      "epoch: 3, progress: 0123456789 time: 0:04:50 score: 96.79\n",
      "epoch: 4, progress: 0123456789 time: 0:04:50 score: 96.85\n",
      "epoch: 0, progress: 0123456789 time: 0:04:53 score: 97.41\n",
      "epoch: 1, progress: 0123456789 time: 0:04:53 score: 97.60\n",
      "epoch: 2, progress: 0123456789 time: 0:04:58 score: 97.46\n",
      "epoch: 3, progress: 0123456789 time: 0:04:51 score: 97.30\n",
      "epoch: 4, progress: 0123456789 time: 0:04:58 score: 97.77\n"
     ]
    }
   ],
   "source": [
    "# train\n",
    "name_to_save = 'sy_1'\n",
    "\n",
    "# train 5 epoch at lr 0.001\n",
    "best_score = train(model, _to_ix, 5, 160, 0.001, train_data, validate_data, 0, name_to_save)\n",
    "\n",
    "# load best model\n",
    "model.load_state_dict(torch.load('model/' + name_to_save + '.pth'))\n",
    "model.train()\n",
    "\n",
    "# train 5 epoch at lr=0.0005\n",
    "best_score = train(model, _to_ix, 5, 160, 0.0005, train_data, validate_data, 0, name_to_save)"
   ]
  },
  {
   "cell_type": "markdown",
   "metadata": {},
   "source": [
    "### manually save and load model"
   ]
  },
  {
   "cell_type": "code",
   "execution_count": 6,
   "metadata": {},
   "outputs": [],
   "source": [
    "name_to_save = 'sy_1'"
   ]
  },
  {
   "cell_type": "code",
   "execution_count": 7,
   "metadata": {
    "scrolled": false
   },
   "outputs": [],
   "source": [
    "# load\n",
    "model.load_state_dict(torch.load('model/' + name_to_save + '.pth'))\n",
    "model.train()"
   ]
  },
  {
   "cell_type": "code",
   "execution_count": 35,
   "metadata": {},
   "outputs": [],
   "source": [
    "# # save\n",
    "# torch.save(model.state_dict(), 'model/' + name_to_save + '.pth')"
   ]
  },
  {
   "cell_type": "markdown",
   "metadata": {
    "heading_collapsed": true
   },
   "source": [
    "## train syllable model (Scheme B)"
   ]
  },
  {
   "cell_type": "code",
   "execution_count": 4,
   "metadata": {
    "hidden": true
   },
   "outputs": [
    {
     "name": "stdout",
     "output_type": "stream",
     "text": [
      "size of data: 134413 15088 2253\n"
     ]
    }
   ],
   "source": [
    "# load data and build dict\n",
    "\n",
    "datasetname = 'sy_1234'\n",
    "\n",
    "with open('dataset/' + datasetname + '_train.json') as file: train_data = json.load(file)\n",
    "with open('dataset/' + datasetname + '_validate.json') as file: validate_data = json.load(file)\n",
    "with open('dataset/' + datasetname + '_test.json') as file: test_data = json.load(file)\n",
    "with open('dataset/' + datasetname + '_dict.json') as file: _to_ix = json.load(file)\n",
    "\n",
    "print('size of data:', len(train_data), len(validate_data), len(test_data))\n",
    "x1_to_ix, tag_to_ix = _to_ix"
   ]
  },
  {
   "cell_type": "code",
   "execution_count": 12,
   "metadata": {
    "hidden": true
   },
   "outputs": [],
   "source": [
    "model = BiLSTM_CRF(len(x1_to_ix), label_size=len(tag_to_ix), x1emb_dim=512, hidden_dim=1024).cuda()"
   ]
  },
  {
   "cell_type": "code",
   "execution_count": 13,
   "metadata": {
    "hidden": true,
    "scrolled": false
   },
   "outputs": [
    {
     "name": "stdout",
     "output_type": "stream",
     "text": [
      "epoch: 0, progress: 0123456 time: 0:00:02 score: 60.92\n",
      "epoch: 1, progress: 0123456 time: 0:00:02 score: 80.58\n",
      "epoch: 2, progress: 0123456 time: 0:00:02 score: 88.42\n",
      "epoch: 3, progress: 0123456 time: 0:00:02 score: 79.96\n",
      "epoch: 4, progress: 0123456 time: 0:00:02 score: 90.54\n",
      "epoch: 5, progress: 0123456 time: 0:00:02 score: 93.28\n",
      "epoch: 6, progress: 0123456 time: 0:00:02 score: 95.05\n",
      "epoch: 7, progress: 0123456 time: 0:00:02 score: 96.78\n",
      "epoch: 8, progress: 0123456 time: 0:00:02 score: 97.20\n",
      "epoch: 9, progress: 0123456 time: 0:00:02 score: 97.39\n",
      "epoch: 10, progress: 0123456 time: 0:00:02 score: 98.25\n",
      "epoch: 11, progress: 0123456 time: 0:00:02 score: 98.40\n",
      "epoch: 12, progress: 0123456 time: 0:00:02 score: 98.73\n",
      "epoch: 13, progress: 0123456 time: 0:00:02 score: 98.85\n",
      "epoch: 14, progress: 0123456 time: 0:00:02 score: 99.17\n",
      "epoch: 15, progress: 0123456 time: 0:00:02 score: 98.60\n",
      "epoch: 16, progress: 0123456 time: 0:00:02 score: 98.97\n",
      "epoch: 17, progress: 0123456 time: 0:00:02 score: 99.33\n",
      "epoch: 18, progress: 0123456 time: 0:00:02 score: 99.12\n",
      "epoch: 19, progress: 0123456 time: 0:00:02 score: 94.01\n",
      "char level:{'precision': 0.9214685769845797, 'recall': 0.9102844986346605, 'f1': 0.9158423946682214}\n",
      "word level:{'precision': 0.8051057880061392, 'recall': 0.7953340318790881, 'f1': 0.8001900783873686}\n"
     ]
    }
   ],
   "source": [
    "# quickly check the model\n",
    "_ = train(model, _to_ix, 20, 160, 0.001, train_data[:1000], train_data[:1000], best_score=0)\n",
    "result, pred_text, answer_text = evaluate(model, _to_ix, test_data, bs=160)"
   ]
  },
  {
   "cell_type": "code",
   "execution_count": 7,
   "metadata": {
    "hidden": true,
    "scrolled": true
   },
   "outputs": [
    {
     "name": "stdout",
     "output_type": "stream",
     "text": [
      "epoch: 0, progress: 0123456789 time: 0:04:41 score: 95.27\n",
      "epoch: 1, progress: 0123456789 time: 0:04:48 score: 91.12\n",
      "epoch: 2, progress: 0123456789 time: 0:04:46 score: 96.12\n",
      "epoch: 3, progress: 0123456789 time: 0:04:50 score: 96.79\n",
      "epoch: 4, progress: 0123456789 time: 0:04:50 score: 96.85\n",
      "epoch: 0, progress: 0123456789 time: 0:04:53 score: 97.41\n",
      "epoch: 1, progress: 0123456789 time: 0:04:53 score: 97.60\n",
      "epoch: 2, progress: 0123456789 time: 0:04:58 score: 97.46\n",
      "epoch: 3, progress: 0123456789 time: 0:04:51 score: 97.30\n",
      "epoch: 4, progress: 0123456789 time: 0:04:58 score: 97.77\n"
     ]
    }
   ],
   "source": [
    "# train\n",
    "name_to_save = 'sy_1234'\n",
    "\n",
    "# train 5 epoch at lr 0.001\n",
    "best_score = train(model, _to_ix, 5, 160, 0.001, train_data, validate_data, 0, name_to_save)\n",
    "\n",
    "# load best model\n",
    "model.load_state_dict(torch.load('model/' + name_to_save + '.pth'))\n",
    "model.train()\n",
    "\n",
    "# train 5 epoch at lr=0.0005\n",
    "best_score = train(model, _to_ix, 5, 160, 0.0005, train_data, validate_data, 0, name_to_save)"
   ]
  },
  {
   "cell_type": "markdown",
   "metadata": {
    "heading_collapsed": true,
    "hidden": true
   },
   "source": [
    "### manually save and load model"
   ]
  },
  {
   "cell_type": "code",
   "execution_count": 6,
   "metadata": {
    "hidden": true
   },
   "outputs": [],
   "source": [
    "name_to_save = 'sy_1234'"
   ]
  },
  {
   "cell_type": "code",
   "execution_count": 7,
   "metadata": {
    "hidden": true,
    "scrolled": false
   },
   "outputs": [],
   "source": [
    "# load\n",
    "model.load_state_dict(torch.load('model/' + name_to_save + '.pth'))\n",
    "model.train()"
   ]
  },
  {
   "cell_type": "code",
   "execution_count": 35,
   "metadata": {
    "hidden": true
   },
   "outputs": [],
   "source": [
    "# # save\n",
    "# torch.save(model.state_dict(), 'model/' + name_to_save + '.pth')"
   ]
  }
 ],
 "metadata": {
  "kernelspec": {
   "display_name": "Python 3.7.4 64-bit ('base': conda)",
   "language": "python",
   "name": "python37464bitbaseconda65946d8874844399be0913da6bd2a863"
  },
  "language_info": {
   "codemirror_mode": {
    "name": "ipython",
    "version": 3
   },
   "file_extension": ".py",
   "mimetype": "text/x-python",
   "name": "python",
   "nbconvert_exporter": "python",
   "pygments_lexer": "ipython3",
   "version": "3.7.4"
  }
 },
 "nbformat": 4,
 "nbformat_minor": 1
}
